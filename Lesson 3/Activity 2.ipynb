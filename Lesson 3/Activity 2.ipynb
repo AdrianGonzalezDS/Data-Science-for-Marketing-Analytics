{
 "cells": [
  {
   "cell_type": "code",
   "execution_count": null,
   "metadata": {
    "collapsed": true
   },
   "outputs": [],
   "source": [
    "import pandas as pd\n",
    "\n",
    "customer_offers = pd.read_csv('customer_offers.csv')\n",
    "customer_offers = customer_offers.set_index('customer_name')"
   ]
  },
  {
   "cell_type": "code",
   "execution_count": null,
   "metadata": {
    "collapsed": false
   },
   "outputs": [],
   "source": [
    "from sklearn import cluster\n",
    "\n",
    "model = cluster.KMeans(n_clusters=3)\n",
    "cluster = model.fit_predict(customer_offers)\n",
    "offer_cols = customer_offers.columns\n",
    "customer_offers['cluster'] = cluster"
   ]
  },
  {
   "cell_type": "code",
   "execution_count": null,
   "metadata": {
    "collapsed": false
   },
   "outputs": [],
   "source": [
    "from sklearn import decomposition\n",
    "import matplotlib.pyplot as plt\n",
    "\n",
    "pca = decomposition.PCA(n_components=2)\n",
    "pc1, pc2 = zip(*pca.fit_transform(customer_offers[offer_cols]))\n",
    "plt.scatter(pc1, pc2, c=customer_offers['cluster'])\n",
    "plt.show()"
   ]
  },
  {
   "cell_type": "code",
   "execution_count": null,
   "metadata": {
    "collapsed": true
   },
   "outputs": [],
   "source": [
    "total_proportions = customer_offers[offer_cols].mean()\n",
    "for i in range(3):\n",
    "    plt.figure(i)\n",
    "    cluster_df = customer_offers[customer_offers['cluster'] == i]\n",
    "    cluster_proportions = cluster_df[offer_cols].mean()\n",
    "\n",
    "    diff = cluster_proportions - total_proportions\n",
    "    plt.bar(range(1, 33), diff)\n",
    "plt.show()"
   ]
  },
  {
   "cell_type": "code",
   "execution_count": null,
   "metadata": {
    "collapsed": false
   },
   "outputs": [],
   "source": [
    "offer_info = pd.read_csv('offer_info.csv')\n",
    "for i in range(3):\n",
    "    cluster_df = customer_offers[customer_offers['cluster'] == i]\n",
    "    cluster_proportions = cluster_df[offer_cols].mean()\n",
    "\n",
    "    diff = cluster_proportions - total_proportions\n",
    "    cluster_rep_offers = list(diff.sort_values(ascending=False).index.astype(int)[0:5])\n",
    "    print(offer_info.loc[offer_info['offer_id'].isin(cluster_rep_offers),'varietal'])"
   ]
  }
 ],
 "metadata": {
  "kernelspec": {
   "display_name": "Python [Root]",
   "language": "python",
   "name": "Python [Root]"
  },
  "language_info": {
   "codemirror_mode": {
    "name": "ipython",
    "version": 2
   },
   "file_extension": ".py",
   "mimetype": "text/x-python",
   "name": "python",
   "nbconvert_exporter": "python",
   "pygments_lexer": "ipython2",
   "version": "2.7.12"
  }
 },
 "nbformat": 4,
 "nbformat_minor": 0
}
