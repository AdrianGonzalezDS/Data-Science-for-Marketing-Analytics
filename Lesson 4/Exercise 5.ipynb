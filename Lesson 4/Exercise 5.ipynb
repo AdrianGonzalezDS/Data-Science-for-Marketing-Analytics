{
 "cells": [
  {
   "cell_type": "code",
   "execution_count": null,
   "metadata": {
    "collapsed": false
   },
   "outputs": [],
   "source": [
    "import pandas as pd\n",
    "df = pd.read_csv('four_cols.csv')"
   ]
  },
  {
   "cell_type": "code",
   "execution_count": null,
   "metadata": {
    "collapsed": true
   },
   "outputs": [],
   "source": [
    "cols = df.columns\n",
    "zcols = []\n",
    "for col in cols:\n",
    "    df['z_' + col] = (df[col] - df[col].mean())/df[col].std()\n",
    "    zcols.append('z_' + col)"
   ]
  },
  {
   "cell_type": "code",
   "execution_count": null,
   "metadata": {
    "collapsed": false
   },
   "outputs": [],
   "source": [
    "from sklearn import cluster\n",
    "from sklearn import metrics\n",
    "import matplotlib.pyplot as plt\n",
    "\n",
    "krange = list(range(2,11))\n",
    "X = df[zcols].as_matrix()\n",
    "avg_silhouettes = []\n",
    "for n in krange:\n",
    "    model = cluster.KMeans(n_clusters=n, random_state=10)\n",
    "    model.fit_predict(X)\n",
    "    cluster_assignments = model.labels_\n",
    "    \n",
    "    silhouette_avg = metrics.silhouette_score(X, cluster_assignments)\n",
    "    avg_silhouettes.append(silhouette_avg)\n",
    "    \n",
    "plt.plot(krange, avg_silhouettes)\n",
    "plt.xlabel(\"$K$\")\n",
    "plt.ylabel(\"Average Silhouette Score\")\n",
    "plt.show()"
   ]
  },
  {
   "cell_type": "code",
   "execution_count": null,
   "metadata": {
    "collapsed": false
   },
   "outputs": [],
   "source": [
    "bandwidth = cluster.estimate_bandwidth(X, quantile=0.1)\n",
    "ms = cluster.MeanShift(bandwidth=bandwidth, bin_seeding=True)\n",
    "\n",
    "ms.fit(X)\n",
    "ms_silhouette = metrics.silhouette_score(X, ms.labels_)\n",
    "\n",
    "print('mean-shift silhouette score: ' + str(ms_silhouette))"
   ]
  },
  {
   "cell_type": "code",
   "execution_count": null,
   "metadata": {
    "collapsed": false
   },
   "outputs": [],
   "source": [
    "model = cluster.KMeans(n_clusters=5, random_state=10)\n",
    "model.fit_predict(X)\n",
    "\n",
    "km_silhouette = metrics.silhouette_score(X, model.labels_)\n",
    "\n",
    "print('k-means silhouette score: ' + str(km_silhouette))"
   ]
  },
  {
   "cell_type": "code",
   "execution_count": null,
   "metadata": {
    "collapsed": true
   },
   "outputs": [],
   "source": []
  }
 ],
 "metadata": {
  "anaconda-cloud": {},
  "kernelspec": {
   "display_name": "Python [Root]",
   "language": "python",
   "name": "Python [Root]"
  },
  "language_info": {
   "codemirror_mode": {
    "name": "ipython",
    "version": 2
   },
   "file_extension": ".py",
   "mimetype": "text/x-python",
   "name": "python",
   "nbconvert_exporter": "python",
   "pygments_lexer": "ipython2",
   "version": "2.7.12"
  }
 },
 "nbformat": 4,
 "nbformat_minor": 0
}
