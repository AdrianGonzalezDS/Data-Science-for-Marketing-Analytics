{
 "cells": [
  {
   "cell_type": "code",
   "execution_count": 1,
   "metadata": {},
   "outputs": [],
   "source": [
    "import matplotlib.pyplot as plt\n",
    "import pandas as pd"
   ]
  },
  {
   "cell_type": "code",
   "execution_count": 2,
   "metadata": {},
   "outputs": [
    {
     "data": {
      "text/html": [
       "<div>\n",
       "<style scoped>\n",
       "    .dataframe tbody tr th:only-of-type {\n",
       "        vertical-align: middle;\n",
       "    }\n",
       "\n",
       "    .dataframe tbody tr th {\n",
       "        vertical-align: top;\n",
       "    }\n",
       "\n",
       "    .dataframe thead th {\n",
       "        text-align: right;\n",
       "    }\n",
       "</style>\n",
       "<table border=\"1\" class=\"dataframe\">\n",
       "  <thead>\n",
       "    <tr style=\"text-align: right;\">\n",
       "      <th></th>\n",
       "      <th>P Cost</th>\n",
       "      <th>P Views</th>\n",
       "      <th>Q Cost</th>\n",
       "      <th>Q Views</th>\n",
       "      <th>R Cost</th>\n",
       "      <th>R Views</th>\n",
       "    </tr>\n",
       "  </thead>\n",
       "  <tbody>\n",
       "    <tr>\n",
       "      <th>Monday</th>\n",
       "      <td>50</td>\n",
       "      <td>20000</td>\n",
       "      <td>150</td>\n",
       "      <td>200000</td>\n",
       "      <td>50</td>\n",
       "      <td>10000</td>\n",
       "    </tr>\n",
       "    <tr>\n",
       "      <th>Tuesday</th>\n",
       "      <td>50</td>\n",
       "      <td>15000</td>\n",
       "      <td>150</td>\n",
       "      <td>210000</td>\n",
       "      <td>50</td>\n",
       "      <td>20000</td>\n",
       "    </tr>\n",
       "    <tr>\n",
       "      <th>Wednesday</th>\n",
       "      <td>50</td>\n",
       "      <td>23000</td>\n",
       "      <td>150</td>\n",
       "      <td>175000</td>\n",
       "      <td>50</td>\n",
       "      <td>20000</td>\n",
       "    </tr>\n",
       "    <tr>\n",
       "      <th>Thursday</th>\n",
       "      <td>50</td>\n",
       "      <td>20000</td>\n",
       "      <td>150</td>\n",
       "      <td>230000</td>\n",
       "      <td>50</td>\n",
       "      <td>14000</td>\n",
       "    </tr>\n",
       "    <tr>\n",
       "      <th>Friday</th>\n",
       "      <td>75</td>\n",
       "      <td>19000</td>\n",
       "      <td>200</td>\n",
       "      <td>150000</td>\n",
       "      <td>75</td>\n",
       "      <td>23000</td>\n",
       "    </tr>\n",
       "    <tr>\n",
       "      <th>Saturday</th>\n",
       "      <td>100</td>\n",
       "      <td>30000</td>\n",
       "      <td>300</td>\n",
       "      <td>500000</td>\n",
       "      <td>100</td>\n",
       "      <td>22000</td>\n",
       "    </tr>\n",
       "    <tr>\n",
       "      <th>Sunday</th>\n",
       "      <td>100</td>\n",
       "      <td>40000</td>\n",
       "      <td>300</td>\n",
       "      <td>450000</td>\n",
       "      <td>100</td>\n",
       "      <td>25000</td>\n",
       "    </tr>\n",
       "  </tbody>\n",
       "</table>\n",
       "</div>"
      ],
      "text/plain": [
       "           P Cost  P Views  Q Cost  Q Views  R Cost  R Views\n",
       "Monday         50    20000     150   200000      50    10000\n",
       "Tuesday        50    15000     150   210000      50    20000\n",
       "Wednesday      50    23000     150   175000      50    20000\n",
       "Thursday       50    20000     150   230000      50    14000\n",
       "Friday         75    19000     200   150000      75    23000\n",
       "Saturday      100    30000     300   500000     100    22000\n",
       "Sunday        100    40000     300   450000     100    25000"
      ]
     },
     "execution_count": 2,
     "metadata": {},
     "output_type": "execute_result"
    }
   ],
   "source": [
    "df = pd.DataFrame({\n",
    "    'P Cost': [50,50,50,50,75,100,100],\n",
    "    'P Views': [20000, 15000, 23000, 20000, 19000, 30000, 40000],\n",
    "    'Q Cost': [150, 150, 150, 150, 200, 300, 300],\n",
    "    'Q Views': [200000, 210000, 175000, 230000, 150000, 500000, 450000],\n",
    "    'R Cost': [50,50,50,50,75,100,100],\n",
    "    'R Views': [10000, 20000, 20000, 14000, 23000, 22000, 25000]\n",
    "}, index= ['Monday', 'Tuesday', 'Wednesday', 'Thursday', 'Friday', 'Saturday', 'Sunday'])\n",
    "df"
   ]
  },
  {
   "cell_type": "code",
   "execution_count": 4,
   "metadata": {},
   "outputs": [
    {
     "data": {
      "text/html": [
       "<div>\n",
       "<style scoped>\n",
       "    .dataframe tbody tr th:only-of-type {\n",
       "        vertical-align: middle;\n",
       "    }\n",
       "\n",
       "    .dataframe tbody tr th {\n",
       "        vertical-align: top;\n",
       "    }\n",
       "\n",
       "    .dataframe thead th {\n",
       "        text-align: right;\n",
       "    }\n",
       "</style>\n",
       "<table border=\"1\" class=\"dataframe\">\n",
       "  <thead>\n",
       "    <tr style=\"text-align: right;\">\n",
       "      <th></th>\n",
       "      <th>P Cost</th>\n",
       "      <th>P Views</th>\n",
       "      <th>Q Cost</th>\n",
       "      <th>Q Views</th>\n",
       "      <th>R Cost</th>\n",
       "      <th>R Views</th>\n",
       "    </tr>\n",
       "  </thead>\n",
       "  <tbody>\n",
       "    <tr>\n",
       "      <th>count</th>\n",
       "      <td>7.000000</td>\n",
       "      <td>7.000000</td>\n",
       "      <td>7.000000</td>\n",
       "      <td>7.000000</td>\n",
       "      <td>7.000000</td>\n",
       "      <td>7.000000</td>\n",
       "    </tr>\n",
       "    <tr>\n",
       "      <th>mean</th>\n",
       "      <td>67.857143</td>\n",
       "      <td>23857.142857</td>\n",
       "      <td>200.000000</td>\n",
       "      <td>273571.428571</td>\n",
       "      <td>67.857143</td>\n",
       "      <td>19142.857143</td>\n",
       "    </tr>\n",
       "    <tr>\n",
       "      <th>std</th>\n",
       "      <td>23.779743</td>\n",
       "      <td>8474.050024</td>\n",
       "      <td>70.710678</td>\n",
       "      <td>140674.396086</td>\n",
       "      <td>23.779743</td>\n",
       "      <td>5304.984179</td>\n",
       "    </tr>\n",
       "    <tr>\n",
       "      <th>min</th>\n",
       "      <td>50.000000</td>\n",
       "      <td>15000.000000</td>\n",
       "      <td>150.000000</td>\n",
       "      <td>150000.000000</td>\n",
       "      <td>50.000000</td>\n",
       "      <td>10000.000000</td>\n",
       "    </tr>\n",
       "    <tr>\n",
       "      <th>25%</th>\n",
       "      <td>50.000000</td>\n",
       "      <td>19500.000000</td>\n",
       "      <td>150.000000</td>\n",
       "      <td>187500.000000</td>\n",
       "      <td>50.000000</td>\n",
       "      <td>17000.000000</td>\n",
       "    </tr>\n",
       "    <tr>\n",
       "      <th>50%</th>\n",
       "      <td>50.000000</td>\n",
       "      <td>20000.000000</td>\n",
       "      <td>150.000000</td>\n",
       "      <td>210000.000000</td>\n",
       "      <td>50.000000</td>\n",
       "      <td>20000.000000</td>\n",
       "    </tr>\n",
       "    <tr>\n",
       "      <th>75%</th>\n",
       "      <td>87.500000</td>\n",
       "      <td>26500.000000</td>\n",
       "      <td>250.000000</td>\n",
       "      <td>340000.000000</td>\n",
       "      <td>87.500000</td>\n",
       "      <td>22500.000000</td>\n",
       "    </tr>\n",
       "    <tr>\n",
       "      <th>max</th>\n",
       "      <td>100.000000</td>\n",
       "      <td>40000.000000</td>\n",
       "      <td>300.000000</td>\n",
       "      <td>500000.000000</td>\n",
       "      <td>100.000000</td>\n",
       "      <td>25000.000000</td>\n",
       "    </tr>\n",
       "  </tbody>\n",
       "</table>\n",
       "</div>"
      ],
      "text/plain": [
       "           P Cost       P Views      Q Cost        Q Views      R Cost  \\\n",
       "count    7.000000      7.000000    7.000000       7.000000    7.000000   \n",
       "mean    67.857143  23857.142857  200.000000  273571.428571   67.857143   \n",
       "std     23.779743   8474.050024   70.710678  140674.396086   23.779743   \n",
       "min     50.000000  15000.000000  150.000000  150000.000000   50.000000   \n",
       "25%     50.000000  19500.000000  150.000000  187500.000000   50.000000   \n",
       "50%     50.000000  20000.000000  150.000000  210000.000000   50.000000   \n",
       "75%     87.500000  26500.000000  250.000000  340000.000000   87.500000   \n",
       "max    100.000000  40000.000000  300.000000  500000.000000  100.000000   \n",
       "\n",
       "            R Views  \n",
       "count      7.000000  \n",
       "mean   19142.857143  \n",
       "std     5304.984179  \n",
       "min    10000.000000  \n",
       "25%    17000.000000  \n",
       "50%    20000.000000  \n",
       "75%    22500.000000  \n",
       "max    25000.000000  "
      ]
     },
     "execution_count": 4,
     "metadata": {},
     "output_type": "execute_result"
    }
   ],
   "source": [
    "df.describe()"
   ]
  },
  {
   "cell_type": "code",
   "execution_count": 5,
   "metadata": {},
   "outputs": [
    {
     "data": {
      "text/plain": [
       "P Cost         475\n",
       "P Views     167000\n",
       "Q Cost        1400\n",
       "Q Views    1915000\n",
       "R Cost         475\n",
       "R Views     134000\n",
       "dtype: int64"
      ]
     },
     "execution_count": 5,
     "metadata": {},
     "output_type": "execute_result"
    }
   ],
   "source": [
    "df.sum()"
   ]
  },
  {
   "cell_type": "code",
   "execution_count": 8,
   "metadata": {},
   "outputs": [
    {
     "data": {
      "text/plain": [
       "Monday        83.333333\n",
       "Tuesday       83.333333\n",
       "Wednesday     83.333333\n",
       "Thursday      83.333333\n",
       "Friday       116.666667\n",
       "Saturday     166.666667\n",
       "Sunday       166.666667\n",
       "dtype: float64"
      ]
     },
     "execution_count": 8,
     "metadata": {},
     "output_type": "execute_result"
    }
   ],
   "source": [
    "df[['P Cost', 'Q Cost', 'R Cost']].mean(axis=1)"
   ]
  },
  {
   "cell_type": "code",
   "execution_count": null,
   "metadata": {},
   "outputs": [],
   "source": [
    "dates = pd.date_range('1950-01', periods=24, freq='M')"
   ]
  },
  {
   "cell_type": "code",
   "execution_count": null,
   "metadata": {},
   "outputs": [],
   "source": [
    "dates"
   ]
  }
 ],
 "metadata": {
  "kernelspec": {
   "display_name": "Python 3",
   "language": "python",
   "name": "python3"
  },
  "language_info": {
   "codemirror_mode": {
    "name": "ipython",
    "version": 2
   },
   "file_extension": ".py",
   "mimetype": "text/x-python",
   "name": "python",
   "nbconvert_exporter": "python",
   "pygments_lexer": "ipython2",
   "version": "2.7.15rc1"
  }
 },
 "nbformat": 4,
 "nbformat_minor": 2
}
